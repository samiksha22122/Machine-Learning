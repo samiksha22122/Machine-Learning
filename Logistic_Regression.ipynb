{
 "cells": [
  {
   "cell_type": "code",
   "execution_count": 1,
   "id": "7ecf021c",
   "metadata": {},
   "outputs": [],
   "source": [
    "import numpy as np\n",
    "import pandas as pd\n",
    "import matplotlib.pyplot as plt\n",
    "import seaborn as sns\n",
    "sns.set_style('whitegrid')\n"
   ]
  },
  {
   "cell_type": "code",
   "execution_count": 2,
   "id": "120e7f16",
   "metadata": {},
   "outputs": [],
   "source": [
    "data = pd.read_csv('admitance.csv')"
   ]
  },
  {
   "cell_type": "code",
   "execution_count": 3,
   "id": "85af0c46",
   "metadata": {},
   "outputs": [
    {
     "data": {
      "text/html": [
       "<div>\n",
       "<style scoped>\n",
       "    .dataframe tbody tr th:only-of-type {\n",
       "        vertical-align: middle;\n",
       "    }\n",
       "\n",
       "    .dataframe tbody tr th {\n",
       "        vertical-align: top;\n",
       "    }\n",
       "\n",
       "    .dataframe thead th {\n",
       "        text-align: right;\n",
       "    }\n",
       "</style>\n",
       "<table border=\"1\" class=\"dataframe\">\n",
       "  <thead>\n",
       "    <tr style=\"text-align: right;\">\n",
       "      <th></th>\n",
       "      <th>SAT</th>\n",
       "      <th>Admitted</th>\n",
       "    </tr>\n",
       "  </thead>\n",
       "  <tbody>\n",
       "    <tr>\n",
       "      <th>0</th>\n",
       "      <td>1363</td>\n",
       "      <td>No</td>\n",
       "    </tr>\n",
       "    <tr>\n",
       "      <th>1</th>\n",
       "      <td>1792</td>\n",
       "      <td>Yes</td>\n",
       "    </tr>\n",
       "    <tr>\n",
       "      <th>2</th>\n",
       "      <td>1954</td>\n",
       "      <td>Yes</td>\n",
       "    </tr>\n",
       "    <tr>\n",
       "      <th>3</th>\n",
       "      <td>1653</td>\n",
       "      <td>No</td>\n",
       "    </tr>\n",
       "    <tr>\n",
       "      <th>4</th>\n",
       "      <td>1593</td>\n",
       "      <td>No</td>\n",
       "    </tr>\n",
       "    <tr>\n",
       "      <th>...</th>\n",
       "      <td>...</td>\n",
       "      <td>...</td>\n",
       "    </tr>\n",
       "    <tr>\n",
       "      <th>163</th>\n",
       "      <td>1722</td>\n",
       "      <td>Yes</td>\n",
       "    </tr>\n",
       "    <tr>\n",
       "      <th>164</th>\n",
       "      <td>1750</td>\n",
       "      <td>Yes</td>\n",
       "    </tr>\n",
       "    <tr>\n",
       "      <th>165</th>\n",
       "      <td>1555</td>\n",
       "      <td>No</td>\n",
       "    </tr>\n",
       "    <tr>\n",
       "      <th>166</th>\n",
       "      <td>1524</td>\n",
       "      <td>No</td>\n",
       "    </tr>\n",
       "    <tr>\n",
       "      <th>167</th>\n",
       "      <td>1461</td>\n",
       "      <td>No</td>\n",
       "    </tr>\n",
       "  </tbody>\n",
       "</table>\n",
       "<p>168 rows × 2 columns</p>\n",
       "</div>"
      ],
      "text/plain": [
       "      SAT Admitted\n",
       "0    1363       No\n",
       "1    1792      Yes\n",
       "2    1954      Yes\n",
       "3    1653       No\n",
       "4    1593       No\n",
       "..    ...      ...\n",
       "163  1722      Yes\n",
       "164  1750      Yes\n",
       "165  1555       No\n",
       "166  1524       No\n",
       "167  1461       No\n",
       "\n",
       "[168 rows x 2 columns]"
      ]
     },
     "execution_count": 3,
     "metadata": {},
     "output_type": "execute_result"
    }
   ],
   "source": [
    "data"
   ]
  },
  {
   "cell_type": "code",
   "execution_count": 4,
   "id": "2e663480",
   "metadata": {},
   "outputs": [],
   "source": [
    "data['Admitted'] = data['Admitted'].map({'Yes':1,'No':0})"
   ]
  },
  {
   "cell_type": "code",
   "execution_count": 5,
   "id": "df9e5c6f",
   "metadata": {},
   "outputs": [
    {
     "data": {
      "text/html": [
       "<div>\n",
       "<style scoped>\n",
       "    .dataframe tbody tr th:only-of-type {\n",
       "        vertical-align: middle;\n",
       "    }\n",
       "\n",
       "    .dataframe tbody tr th {\n",
       "        vertical-align: top;\n",
       "    }\n",
       "\n",
       "    .dataframe thead th {\n",
       "        text-align: right;\n",
       "    }\n",
       "</style>\n",
       "<table border=\"1\" class=\"dataframe\">\n",
       "  <thead>\n",
       "    <tr style=\"text-align: right;\">\n",
       "      <th></th>\n",
       "      <th>SAT</th>\n",
       "      <th>Admitted</th>\n",
       "    </tr>\n",
       "  </thead>\n",
       "  <tbody>\n",
       "    <tr>\n",
       "      <th>0</th>\n",
       "      <td>1363</td>\n",
       "      <td>0</td>\n",
       "    </tr>\n",
       "    <tr>\n",
       "      <th>1</th>\n",
       "      <td>1792</td>\n",
       "      <td>1</td>\n",
       "    </tr>\n",
       "    <tr>\n",
       "      <th>2</th>\n",
       "      <td>1954</td>\n",
       "      <td>1</td>\n",
       "    </tr>\n",
       "    <tr>\n",
       "      <th>3</th>\n",
       "      <td>1653</td>\n",
       "      <td>0</td>\n",
       "    </tr>\n",
       "    <tr>\n",
       "      <th>4</th>\n",
       "      <td>1593</td>\n",
       "      <td>0</td>\n",
       "    </tr>\n",
       "    <tr>\n",
       "      <th>...</th>\n",
       "      <td>...</td>\n",
       "      <td>...</td>\n",
       "    </tr>\n",
       "    <tr>\n",
       "      <th>163</th>\n",
       "      <td>1722</td>\n",
       "      <td>1</td>\n",
       "    </tr>\n",
       "    <tr>\n",
       "      <th>164</th>\n",
       "      <td>1750</td>\n",
       "      <td>1</td>\n",
       "    </tr>\n",
       "    <tr>\n",
       "      <th>165</th>\n",
       "      <td>1555</td>\n",
       "      <td>0</td>\n",
       "    </tr>\n",
       "    <tr>\n",
       "      <th>166</th>\n",
       "      <td>1524</td>\n",
       "      <td>0</td>\n",
       "    </tr>\n",
       "    <tr>\n",
       "      <th>167</th>\n",
       "      <td>1461</td>\n",
       "      <td>0</td>\n",
       "    </tr>\n",
       "  </tbody>\n",
       "</table>\n",
       "<p>168 rows × 2 columns</p>\n",
       "</div>"
      ],
      "text/plain": [
       "      SAT  Admitted\n",
       "0    1363         0\n",
       "1    1792         1\n",
       "2    1954         1\n",
       "3    1653         0\n",
       "4    1593         0\n",
       "..    ...       ...\n",
       "163  1722         1\n",
       "164  1750         1\n",
       "165  1555         0\n",
       "166  1524         0\n",
       "167  1461         0\n",
       "\n",
       "[168 rows x 2 columns]"
      ]
     },
     "execution_count": 5,
     "metadata": {},
     "output_type": "execute_result"
    }
   ],
   "source": [
    "data"
   ]
  },
  {
   "cell_type": "code",
   "execution_count": 6,
   "id": "1009e80b",
   "metadata": {},
   "outputs": [],
   "source": [
    "X = data['SAT']"
   ]
  },
  {
   "cell_type": "code",
   "execution_count": 7,
   "id": "865de157",
   "metadata": {},
   "outputs": [
    {
     "data": {
      "text/plain": [
       "0      1363\n",
       "1      1792\n",
       "2      1954\n",
       "3      1653\n",
       "4      1593\n",
       "       ... \n",
       "163    1722\n",
       "164    1750\n",
       "165    1555\n",
       "166    1524\n",
       "167    1461\n",
       "Name: SAT, Length: 168, dtype: int64"
      ]
     },
     "execution_count": 7,
     "metadata": {},
     "output_type": "execute_result"
    }
   ],
   "source": [
    "X"
   ]
  },
  {
   "cell_type": "code",
   "execution_count": 8,
   "id": "000c35ce",
   "metadata": {},
   "outputs": [],
   "source": [
    "X = np.array(X).reshape(-1,1)"
   ]
  },
  {
   "cell_type": "code",
   "execution_count": 9,
   "id": "6c1d1fa9",
   "metadata": {},
   "outputs": [
    {
     "data": {
      "text/plain": [
       "array([[1363],\n",
       "       [1792],\n",
       "       [1954],\n",
       "       [1653],\n",
       "       [1593],\n",
       "       [1755],\n",
       "       [1775],\n",
       "       [1887],\n",
       "       [1893],\n",
       "       [1580],\n",
       "       [1857],\n",
       "       [1880],\n",
       "       [1664],\n",
       "       [1364],\n",
       "       [1693],\n",
       "       [1850],\n",
       "       [1633],\n",
       "       [1634],\n",
       "       [1636],\n",
       "       [1855],\n",
       "       [1987],\n",
       "       [1997],\n",
       "       [1422],\n",
       "       [1508],\n",
       "       [1720],\n",
       "       [1879],\n",
       "       [1634],\n",
       "       [1802],\n",
       "       [1849],\n",
       "       [1764],\n",
       "       [1460],\n",
       "       [1675],\n",
       "       [1656],\n",
       "       [2020],\n",
       "       [1850],\n",
       "       [1865],\n",
       "       [1664],\n",
       "       [1872],\n",
       "       [1654],\n",
       "       [1393],\n",
       "       [1587],\n",
       "       [1631],\n",
       "       [1931],\n",
       "       [1370],\n",
       "       [1810],\n",
       "       [1414],\n",
       "       [1761],\n",
       "       [1477],\n",
       "       [1486],\n",
       "       [1561],\n",
       "       [1549],\n",
       "       [2050],\n",
       "       [1697],\n",
       "       [1543],\n",
       "       [1934],\n",
       "       [1385],\n",
       "       [1670],\n",
       "       [1735],\n",
       "       [1634],\n",
       "       [1777],\n",
       "       [1550],\n",
       "       [1715],\n",
       "       [1925],\n",
       "       [1842],\n",
       "       [1786],\n",
       "       [1435],\n",
       "       [1387],\n",
       "       [1521],\n",
       "       [1975],\n",
       "       [1435],\n",
       "       [1714],\n",
       "       [1634],\n",
       "       [1464],\n",
       "       [1794],\n",
       "       [1855],\n",
       "       [1953],\n",
       "       [1469],\n",
       "       [1663],\n",
       "       [1907],\n",
       "       [1990],\n",
       "       [1542],\n",
       "       [1808],\n",
       "       [1966],\n",
       "       [1679],\n",
       "       [2021],\n",
       "       [2015],\n",
       "       [1473],\n",
       "       [1979],\n",
       "       [1787],\n",
       "       [1687],\n",
       "       [1674],\n",
       "       [1478],\n",
       "       [1735],\n",
       "       [1720],\n",
       "       [1494],\n",
       "       [1964],\n",
       "       [1843],\n",
       "       [1550],\n",
       "       [1764],\n",
       "       [1712],\n",
       "       [1775],\n",
       "       [1531],\n",
       "       [1781],\n",
       "       [1579],\n",
       "       [1526],\n",
       "       [1778],\n",
       "       [1769],\n",
       "       [1824],\n",
       "       [1481],\n",
       "       [1464],\n",
       "       [1591],\n",
       "       [1666],\n",
       "       [1455],\n",
       "       [1934],\n",
       "       [1625],\n",
       "       [1334],\n",
       "       [1721],\n",
       "       [1475],\n",
       "       [1662],\n",
       "       [1861],\n",
       "       [1936],\n",
       "       [1572],\n",
       "       [1508],\n",
       "       [1430],\n",
       "       [1891],\n",
       "       [1550],\n",
       "       [1741],\n",
       "       [1690],\n",
       "       [1687],\n",
       "       [1730],\n",
       "       [1674],\n",
       "       [1475],\n",
       "       [1962],\n",
       "       [1532],\n",
       "       [1492],\n",
       "       [1502],\n",
       "       [1974],\n",
       "       [1607],\n",
       "       [1412],\n",
       "       [1557],\n",
       "       [1821],\n",
       "       [1760],\n",
       "       [1685],\n",
       "       [1773],\n",
       "       [1826],\n",
       "       [1565],\n",
       "       [1510],\n",
       "       [1374],\n",
       "       [1402],\n",
       "       [1702],\n",
       "       [1956],\n",
       "       [1933],\n",
       "       [1832],\n",
       "       [1893],\n",
       "       [1831],\n",
       "       [1487],\n",
       "       [2041],\n",
       "       [1850],\n",
       "       [1555],\n",
       "       [2020],\n",
       "       [1593],\n",
       "       [1934],\n",
       "       [1808],\n",
       "       [1722],\n",
       "       [1750],\n",
       "       [1555],\n",
       "       [1524],\n",
       "       [1461]], dtype=int64)"
      ]
     },
     "execution_count": 9,
     "metadata": {},
     "output_type": "execute_result"
    }
   ],
   "source": [
    "X"
   ]
  },
  {
   "cell_type": "code",
   "execution_count": 10,
   "id": "cbe0a059",
   "metadata": {},
   "outputs": [],
   "source": [
    "y = data['Admitted']"
   ]
  },
  {
   "cell_type": "code",
   "execution_count": 11,
   "id": "2b0ba0f1",
   "metadata": {},
   "outputs": [
    {
     "data": {
      "text/plain": [
       "0      0\n",
       "1      1\n",
       "2      1\n",
       "3      0\n",
       "4      0\n",
       "      ..\n",
       "163    1\n",
       "164    1\n",
       "165    0\n",
       "166    0\n",
       "167    0\n",
       "Name: Admitted, Length: 168, dtype: int64"
      ]
     },
     "execution_count": 11,
     "metadata": {},
     "output_type": "execute_result"
    }
   ],
   "source": [
    "y"
   ]
  },
  {
   "cell_type": "code",
   "execution_count": 12,
   "id": "067ea10b",
   "metadata": {},
   "outputs": [],
   "source": [
    "from sklearn.model_selection import train_test_split"
   ]
  },
  {
   "cell_type": "code",
   "execution_count": 13,
   "id": "993d9519",
   "metadata": {},
   "outputs": [],
   "source": [
    "X_train,X_test,y_train,y_test = train_test_split(X,y,test_size=0.2,random_state=0)"
   ]
  },
  {
   "cell_type": "code",
   "execution_count": 14,
   "id": "c2ad34e3",
   "metadata": {},
   "outputs": [
    {
     "data": {
      "text/plain": [
       "array([[1715],\n",
       "       [1810],\n",
       "       [1720],\n",
       "       [1842],\n",
       "       [1687],\n",
       "       [1855],\n",
       "       [1674],\n",
       "       [1702],\n",
       "       [1412],\n",
       "       [1633],\n",
       "       [1387],\n",
       "       [1974],\n",
       "       [1587],\n",
       "       [2020],\n",
       "       [1422],\n",
       "       [1634],\n",
       "       [1964],\n",
       "       [1572],\n",
       "       [1526],\n",
       "       [1464],\n",
       "       [1802],\n",
       "       [1674],\n",
       "       [1730],\n",
       "       [1720],\n",
       "       [1455],\n",
       "       [1934],\n",
       "       [1636],\n",
       "       [1861],\n",
       "       [1555],\n",
       "       [1460],\n",
       "       [1679],\n",
       "       [1925],\n",
       "       [1954],\n",
       "       [1777],\n",
       "       [1666],\n",
       "       [1735],\n",
       "       [1370],\n",
       "       [1857],\n",
       "       [1542],\n",
       "       [1808],\n",
       "       [1741],\n",
       "       [1764],\n",
       "       [1831],\n",
       "       [1492],\n",
       "       [1934],\n",
       "       [1549],\n",
       "       [1591],\n",
       "       [1893],\n",
       "       [1786],\n",
       "       [1721],\n",
       "       [1662],\n",
       "       [1435],\n",
       "       [1561],\n",
       "       [1486],\n",
       "       [2015],\n",
       "       [1364],\n",
       "       [1962],\n",
       "       [1508],\n",
       "       [1891],\n",
       "       [1987],\n",
       "       [1850],\n",
       "       [1907],\n",
       "       [1697],\n",
       "       [1469],\n",
       "       [1653],\n",
       "       [1461],\n",
       "       [1374],\n",
       "       [1775],\n",
       "       [1975],\n",
       "       [1953],\n",
       "       [2021],\n",
       "       [1550],\n",
       "       [1664],\n",
       "       [1475],\n",
       "       [1826],\n",
       "       [1693],\n",
       "       [1363],\n",
       "       [1478],\n",
       "       [1565],\n",
       "       [1761],\n",
       "       [1880],\n",
       "       [1781],\n",
       "       [1865],\n",
       "       [1735],\n",
       "       [1631],\n",
       "       [1750],\n",
       "       [1435],\n",
       "       [1792],\n",
       "       [1936],\n",
       "       [1607],\n",
       "       [2041],\n",
       "       [1931],\n",
       "       [1778],\n",
       "       [1593],\n",
       "       [1510],\n",
       "       [1634],\n",
       "       [1654],\n",
       "       [1543],\n",
       "       [1532],\n",
       "       [1687],\n",
       "       [1850],\n",
       "       [1849],\n",
       "       [1625],\n",
       "       [1675],\n",
       "       [1760],\n",
       "       [1690],\n",
       "       [1402],\n",
       "       [1656],\n",
       "       [1685],\n",
       "       [1764],\n",
       "       [1712],\n",
       "       [1966],\n",
       "       [1990],\n",
       "       [1334],\n",
       "       [1722],\n",
       "       [1464],\n",
       "       [1663],\n",
       "       [1879],\n",
       "       [1808],\n",
       "       [1555],\n",
       "       [1593],\n",
       "       [1393],\n",
       "       [1634],\n",
       "       [1821],\n",
       "       [1787],\n",
       "       [1714],\n",
       "       [1979],\n",
       "       [1664],\n",
       "       [1997],\n",
       "       [1580],\n",
       "       [1579],\n",
       "       [1521],\n",
       "       [1475],\n",
       "       [1477]], dtype=int64)"
      ]
     },
     "execution_count": 14,
     "metadata": {},
     "output_type": "execute_result"
    }
   ],
   "source": [
    "X_train"
   ]
  },
  {
   "cell_type": "code",
   "execution_count": 15,
   "id": "bbba13cf",
   "metadata": {},
   "outputs": [
    {
     "data": {
      "text/plain": [
       "(134, 1)"
      ]
     },
     "execution_count": 15,
     "metadata": {},
     "output_type": "execute_result"
    }
   ],
   "source": [
    "X_train.shape"
   ]
  },
  {
   "cell_type": "code",
   "execution_count": 16,
   "id": "706ed336",
   "metadata": {},
   "outputs": [
    {
     "data": {
      "text/plain": [
       "(34, 1)"
      ]
     },
     "execution_count": 16,
     "metadata": {},
     "output_type": "execute_result"
    }
   ],
   "source": [
    "X_test.shape"
   ]
  },
  {
   "cell_type": "code",
   "execution_count": 17,
   "id": "7f254e8a",
   "metadata": {},
   "outputs": [],
   "source": [
    "from sklearn.linear_model import LogisticRegression"
   ]
  },
  {
   "cell_type": "code",
   "execution_count": 18,
   "id": "4b1a0050",
   "metadata": {},
   "outputs": [],
   "source": [
    "log_reg = LogisticRegression()"
   ]
  },
  {
   "cell_type": "code",
   "execution_count": 19,
   "id": "b904bef8",
   "metadata": {},
   "outputs": [
    {
     "data": {
      "text/plain": [
       "LogisticRegression()"
      ]
     },
     "execution_count": 19,
     "metadata": {},
     "output_type": "execute_result"
    }
   ],
   "source": [
    "log_reg.fit(X_train,y_train)"
   ]
  },
  {
   "cell_type": "code",
   "execution_count": 20,
   "id": "687f0705",
   "metadata": {},
   "outputs": [],
   "source": [
    "# testing"
   ]
  },
  {
   "cell_type": "code",
   "execution_count": 21,
   "id": "9cfd40ed",
   "metadata": {},
   "outputs": [],
   "source": [
    "y_pred = log_reg.predict(X_test)"
   ]
  },
  {
   "cell_type": "code",
   "execution_count": 22,
   "id": "24a62ab8",
   "metadata": {},
   "outputs": [
    {
     "data": {
      "text/plain": [
       "array([1, 1, 0, 0, 1, 1, 1, 1, 0, 0, 1, 0, 1, 0, 1, 0, 1, 0, 0, 1, 1, 1,\n",
       "       1, 0, 0, 1, 0, 1, 0, 1, 1, 0, 0, 1], dtype=int64)"
      ]
     },
     "execution_count": 22,
     "metadata": {},
     "output_type": "execute_result"
    }
   ],
   "source": [
    "y_pred"
   ]
  },
  {
   "cell_type": "code",
   "execution_count": 23,
   "id": "8f9145c1",
   "metadata": {},
   "outputs": [
    {
     "data": {
      "text/plain": [
       "151    1\n",
       "56     0\n",
       "123    0\n",
       "60     0\n",
       "100    1\n",
       "51     1\n",
       "7      1\n",
       "5      1\n",
       "86     0\n",
       "135    0\n",
       "54     1\n",
       "94     0\n",
       "157    1\n",
       "101    0\n",
       "73     1\n",
       "45     0\n",
       "74     1\n",
       "97     0\n",
       "139    0\n",
       "96     1\n",
       "107    1\n",
       "106    1\n",
       "150    1\n",
       "166    0\n",
       "55     0\n",
       "152    1\n",
       "26     1\n",
       "143    1\n",
       "155    0\n",
       "33     1\n",
       "8      1\n",
       "108    0\n",
       "122    0\n",
       "37     1\n",
       "Name: Admitted, dtype: int64"
      ]
     },
     "execution_count": 23,
     "metadata": {},
     "output_type": "execute_result"
    }
   ],
   "source": [
    "y_test"
   ]
  },
  {
   "cell_type": "code",
   "execution_count": 24,
   "id": "d310d68b",
   "metadata": {},
   "outputs": [],
   "source": [
    "# evaluation"
   ]
  },
  {
   "cell_type": "code",
   "execution_count": 25,
   "id": "cc56ec5f",
   "metadata": {},
   "outputs": [],
   "source": [
    "# confusion matrix & classification report"
   ]
  },
  {
   "cell_type": "code",
   "execution_count": 26,
   "id": "c8d0bcc3",
   "metadata": {},
   "outputs": [],
   "source": [
    "from sklearn.metrics import confusion_matrix"
   ]
  },
  {
   "cell_type": "code",
   "execution_count": 27,
   "id": "7d9d2b4b",
   "metadata": {},
   "outputs": [
    {
     "name": "stdout",
     "output_type": "stream",
     "text": [
      "[[14  1]\n",
      " [ 1 18]]\n"
     ]
    }
   ],
   "source": [
    "print(confusion_matrix(y_test,y_pred))"
   ]
  },
  {
   "cell_type": "code",
   "execution_count": 28,
   "id": "c41274f9",
   "metadata": {},
   "outputs": [],
   "source": [
    "from sklearn.metrics import classification_report"
   ]
  },
  {
   "cell_type": "code",
   "execution_count": 29,
   "id": "4caaae04",
   "metadata": {},
   "outputs": [
    {
     "name": "stdout",
     "output_type": "stream",
     "text": [
      "              precision    recall  f1-score   support\n",
      "\n",
      "           0       0.93      0.93      0.93        15\n",
      "           1       0.95      0.95      0.95        19\n",
      "\n",
      "    accuracy                           0.94        34\n",
      "   macro avg       0.94      0.94      0.94        34\n",
      "weighted avg       0.94      0.94      0.94        34\n",
      "\n"
     ]
    }
   ],
   "source": [
    "print(classification_report(y_test,y_pred))"
   ]
  },
  {
   "cell_type": "code",
   "execution_count": null,
   "id": "df594c23",
   "metadata": {},
   "outputs": [],
   "source": []
  }
 ],
 "metadata": {
  "kernelspec": {
   "display_name": "Python 3",
   "language": "python",
   "name": "python3"
  },
  "language_info": {
   "codemirror_mode": {
    "name": "ipython",
    "version": 3
   },
   "file_extension": ".py",
   "mimetype": "text/x-python",
   "name": "python",
   "nbconvert_exporter": "python",
   "pygments_lexer": "ipython3",
   "version": "3.6.13"
  }
 },
 "nbformat": 4,
 "nbformat_minor": 5
}
