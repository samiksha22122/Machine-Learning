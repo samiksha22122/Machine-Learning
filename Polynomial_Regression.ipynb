{
 "cells": [
  {
   "cell_type": "code",
   "execution_count": 391,
   "id": "6b106ce6",
   "metadata": {},
   "outputs": [],
   "source": [
    "import numpy as np\n",
    "import pandas as pd\n",
    "import matplotlib.pyplot as plt\n",
    "import seaborn as sns\n",
    "sns.set_style('whitegrid')"
   ]
  },
  {
   "cell_type": "code",
   "execution_count": 392,
   "id": "6b3e4246",
   "metadata": {},
   "outputs": [],
   "source": [
    "dataset = pd.read_csv('Position_Salaries.csv')"
   ]
  },
  {
   "cell_type": "code",
   "execution_count": 393,
   "id": "273187e4",
   "metadata": {},
   "outputs": [
    {
     "data": {
      "text/html": [
       "<div>\n",
       "<style scoped>\n",
       "    .dataframe tbody tr th:only-of-type {\n",
       "        vertical-align: middle;\n",
       "    }\n",
       "\n",
       "    .dataframe tbody tr th {\n",
       "        vertical-align: top;\n",
       "    }\n",
       "\n",
       "    .dataframe thead th {\n",
       "        text-align: right;\n",
       "    }\n",
       "</style>\n",
       "<table border=\"1\" class=\"dataframe\">\n",
       "  <thead>\n",
       "    <tr style=\"text-align: right;\">\n",
       "      <th></th>\n",
       "      <th>Position</th>\n",
       "      <th>Level</th>\n",
       "      <th>Salary</th>\n",
       "    </tr>\n",
       "  </thead>\n",
       "  <tbody>\n",
       "    <tr>\n",
       "      <th>0</th>\n",
       "      <td>Business Analyst</td>\n",
       "      <td>1</td>\n",
       "      <td>45000</td>\n",
       "    </tr>\n",
       "    <tr>\n",
       "      <th>1</th>\n",
       "      <td>Junior Consultant</td>\n",
       "      <td>2</td>\n",
       "      <td>50000</td>\n",
       "    </tr>\n",
       "    <tr>\n",
       "      <th>2</th>\n",
       "      <td>Senior Consultant</td>\n",
       "      <td>3</td>\n",
       "      <td>60000</td>\n",
       "    </tr>\n",
       "    <tr>\n",
       "      <th>3</th>\n",
       "      <td>Manager</td>\n",
       "      <td>4</td>\n",
       "      <td>80000</td>\n",
       "    </tr>\n",
       "    <tr>\n",
       "      <th>4</th>\n",
       "      <td>Country Manager</td>\n",
       "      <td>5</td>\n",
       "      <td>110000</td>\n",
       "    </tr>\n",
       "    <tr>\n",
       "      <th>5</th>\n",
       "      <td>Region Manager</td>\n",
       "      <td>6</td>\n",
       "      <td>150000</td>\n",
       "    </tr>\n",
       "    <tr>\n",
       "      <th>6</th>\n",
       "      <td>Partner</td>\n",
       "      <td>7</td>\n",
       "      <td>200000</td>\n",
       "    </tr>\n",
       "    <tr>\n",
       "      <th>7</th>\n",
       "      <td>Senior Partner</td>\n",
       "      <td>8</td>\n",
       "      <td>300000</td>\n",
       "    </tr>\n",
       "    <tr>\n",
       "      <th>8</th>\n",
       "      <td>C-level</td>\n",
       "      <td>9</td>\n",
       "      <td>500000</td>\n",
       "    </tr>\n",
       "    <tr>\n",
       "      <th>9</th>\n",
       "      <td>CEO</td>\n",
       "      <td>10</td>\n",
       "      <td>1000000</td>\n",
       "    </tr>\n",
       "  </tbody>\n",
       "</table>\n",
       "</div>"
      ],
      "text/plain": [
       "            Position  Level   Salary\n",
       "0   Business Analyst      1    45000\n",
       "1  Junior Consultant      2    50000\n",
       "2  Senior Consultant      3    60000\n",
       "3            Manager      4    80000\n",
       "4    Country Manager      5   110000\n",
       "5     Region Manager      6   150000\n",
       "6            Partner      7   200000\n",
       "7     Senior Partner      8   300000\n",
       "8            C-level      9   500000\n",
       "9                CEO     10  1000000"
      ]
     },
     "execution_count": 393,
     "metadata": {},
     "output_type": "execute_result"
    }
   ],
   "source": [
    "dataset"
   ]
  },
  {
   "cell_type": "code",
   "execution_count": 394,
   "id": "02ea5c84",
   "metadata": {},
   "outputs": [],
   "source": [
    "x = dataset.iloc[:,1].values"
   ]
  },
  {
   "cell_type": "code",
   "execution_count": 395,
   "id": "3e99fae7",
   "metadata": {},
   "outputs": [
    {
     "data": {
      "text/plain": [
       "array([ 1,  2,  3,  4,  5,  6,  7,  8,  9, 10], dtype=int64)"
      ]
     },
     "execution_count": 395,
     "metadata": {},
     "output_type": "execute_result"
    }
   ],
   "source": [
    "x"
   ]
  },
  {
   "cell_type": "code",
   "execution_count": 396,
   "id": "e8d4c99e",
   "metadata": {},
   "outputs": [],
   "source": [
    "y = dataset.iloc[:,2].values"
   ]
  },
  {
   "cell_type": "code",
   "execution_count": 397,
   "id": "0b92ba23",
   "metadata": {},
   "outputs": [
    {
     "data": {
      "text/plain": [
       "array([  45000,   50000,   60000,   80000,  110000,  150000,  200000,\n",
       "        300000,  500000, 1000000], dtype=int64)"
      ]
     },
     "execution_count": 397,
     "metadata": {},
     "output_type": "execute_result"
    }
   ],
   "source": [
    "y"
   ]
  },
  {
   "cell_type": "code",
   "execution_count": 398,
   "id": "fd0c5d3f",
   "metadata": {},
   "outputs": [
    {
     "data": {
      "image/png": "[encoded data removed]",
      "text/plain": [
       "<Figure size 432x288 with 1 Axes>"
      ]
     },
     "metadata": {},
     "output_type": "display_data"
    }
   ],
   "source": [
    "plt.scatter(x,y,color='red')\n",
    "plt.xlabel('Level')\n",
    "plt.ylabel('Salary')\n",
    "plt.show()"
   ]
  },
  {
   "cell_type": "code",
   "execution_count": 399,
   "id": "429b146b",
   "metadata": {},
   "outputs": [],
   "source": [
    "from sklearn.linear_model import LinearRegression"
   ]
  },
  {
   "cell_type": "code",
   "execution_count": 400,
   "id": "14410413",
   "metadata": {},
   "outputs": [],
   "source": [
    "model = LinearRegression()"
   ]
  },
  {
   "cell_type": "code",
   "execution_count": 401,
   "id": "25401d4f",
   "metadata": {},
   "outputs": [
    {
     "data": {
      "text/plain": [
       "(10,)"
      ]
     },
     "execution_count": 401,
     "metadata": {},
     "output_type": "execute_result"
    }
   ],
   "source": [
    "x.shape"
   ]
  },
  {
   "cell_type": "code",
   "execution_count": 402,
   "id": "05429828",
   "metadata": {},
   "outputs": [],
   "source": [
    "# (row,column)"
   ]
  },
  {
   "cell_type": "code",
   "execution_count": 403,
   "id": "ca75279e",
   "metadata": {},
   "outputs": [],
   "source": [
    "x = x.reshape(-1,1)"
   ]
  },
  {
   "cell_type": "code",
   "execution_count": 404,
   "id": "d09cdeab",
   "metadata": {},
   "outputs": [
    {
     "data": {
      "text/plain": [
       "array([[ 1],\n",
       "       [ 2],\n",
       "       [ 3],\n",
       "       [ 4],\n",
       "       [ 5],\n",
       "       [ 6],\n",
       "       [ 7],\n",
       "       [ 8],\n",
       "       [ 9],\n",
       "       [10]], dtype=int64)"
      ]
     },
     "execution_count": 404,
     "metadata": {},
     "output_type": "execute_result"
    }
   ],
   "source": [
    "x"
   ]
  },
  {
   "cell_type": "code",
   "execution_count": 405,
   "id": "15fc488d",
   "metadata": {},
   "outputs": [
    {
     "data": {
      "text/plain": [
       "(10, 1)"
      ]
     },
     "execution_count": 405,
     "metadata": {},
     "output_type": "execute_result"
    }
   ],
   "source": [
    "x.shape"
   ]
  },
  {
   "cell_type": "code",
   "execution_count": 406,
   "id": "5ffb94e6",
   "metadata": {},
   "outputs": [
    {
     "data": {
      "text/plain": [
       "LinearRegression()"
      ]
     },
     "execution_count": 406,
     "metadata": {},
     "output_type": "execute_result"
    }
   ],
   "source": [
    "model.fit(x,y)"
   ]
  },
  {
   "cell_type": "code",
   "execution_count": 407,
   "id": "134ce1f5",
   "metadata": {},
   "outputs": [
    {
     "data": {
      "image/png": "[encoded data removed]",
      "text/plain": [
       "<Figure size 432x288 with 1 Axes>"
      ]
     },
     "metadata": {},
     "output_type": "display_data"
    }
   ],
   "source": [
    "plt.scatter(x,y,color='red')\n",
    "plt.plot(x,model.predict(x))\n",
    "plt.xlabel('Level')\n",
    "plt.ylabel('Salary')\n",
    "plt.show()"
   ]
  },
  {
   "cell_type": "code",
   "execution_count": 408,
   "id": "cf6a40b5",
   "metadata": {},
   "outputs": [],
   "source": [
    "test = np.array([7.5]).reshape(-1,1)"
   ]
  },
  {
   "cell_type": "code",
   "execution_count": 409,
   "id": "dcf8c67d",
   "metadata": {},
   "outputs": [
    {
     "data": {
      "text/plain": [
       "array([[7.5]])"
      ]
     },
     "execution_count": 409,
     "metadata": {},
     "output_type": "execute_result"
    }
   ],
   "source": [
    "test"
   ]
  },
  {
   "cell_type": "code",
   "execution_count": 410,
   "id": "aa68c7e9",
   "metadata": {},
   "outputs": [
    {
     "data": {
      "text/plain": [
       "array([411257.57575758])"
      ]
     },
     "execution_count": 410,
     "metadata": {},
     "output_type": "execute_result"
    }
   ],
   "source": [
    "model.predict(test)"
   ]
  },
  {
   "cell_type": "code",
   "execution_count": 411,
   "id": "9c7c1e15",
   "metadata": {},
   "outputs": [],
   "source": [
    "from sklearn.preprocessing import PolynomialFeatures"
   ]
  },
  {
   "cell_type": "code",
   "execution_count": 412,
   "id": "b607988d",
   "metadata": {},
   "outputs": [],
   "source": [
    "grr = PolynomialFeatures(degree=9)"
   ]
  },
  {
   "cell_type": "code",
   "execution_count": 413,
   "id": "5a6f1150",
   "metadata": {},
   "outputs": [],
   "source": [
    "s = grr.fit_transform(x)"
   ]
  },
  {
   "cell_type": "code",
   "execution_count": 414,
   "id": "ea6315bf",
   "metadata": {},
   "outputs": [
    {
     "data": {
      "text/plain": [
       "array([[1.00000000e+00, 1.00000000e+00, 1.00000000e+00, 1.00000000e+00,\n",
       "        1.00000000e+00, 1.00000000e+00, 1.00000000e+00, 1.00000000e+00,\n",
       "        1.00000000e+00, 1.00000000e+00],\n",
       "       [1.00000000e+00, 2.00000000e+00, 4.00000000e+00, 8.00000000e+00,\n",
       "        1.60000000e+01, 3.20000000e+01, 6.40000000e+01, 1.28000000e+02,\n",
       "        2.56000000e+02, 5.12000000e+02],\n",
       "       [1.00000000e+00, 3.00000000e+00, 9.00000000e+00, 2.70000000e+01,\n",
       "        8.10000000e+01, 2.43000000e+02, 7.29000000e+02, 2.18700000e+03,\n",
       "        6.56100000e+03, 1.96830000e+04],\n",
       "       [1.00000000e+00, 4.00000000e+00, 1.60000000e+01, 6.40000000e+01,\n",
       "        2.56000000e+02, 1.02400000e+03, 4.09600000e+03, 1.63840000e+04,\n",
       "        6.55360000e+04, 2.62144000e+05],\n",
       "       [1.00000000e+00, 5.00000000e+00, 2.50000000e+01, 1.25000000e+02,\n",
       "        6.25000000e+02, 3.12500000e+03, 1.56250000e+04, 7.81250000e+04,\n",
       "        3.90625000e+05, 1.95312500e+06],\n",
       "       [1.00000000e+00, 6.00000000e+00, 3.60000000e+01, 2.16000000e+02,\n",
       "        1.29600000e+03, 7.77600000e+03, 4.66560000e+04, 2.79936000e+05,\n",
       "        1.67961600e+06, 1.00776960e+07],\n",
       "       [1.00000000e+00, 7.00000000e+00, 4.90000000e+01, 3.43000000e+02,\n",
       "        2.40100000e+03, 1.68070000e+04, 1.17649000e+05, 8.23543000e+05,\n",
       "        5.76480100e+06, 4.03536070e+07],\n",
       "       [1.00000000e+00, 8.00000000e+00, 6.40000000e+01, 5.12000000e+02,\n",
       "        4.09600000e+03, 3.27680000e+04, 2.62144000e+05, 2.09715200e+06,\n",
       "        1.67772160e+07, 1.34217728e+08],\n",
       "       [1.00000000e+00, 9.00000000e+00, 8.10000000e+01, 7.29000000e+02,\n",
       "        6.56100000e+03, 5.90490000e+04, 5.31441000e+05, 4.78296900e+06,\n",
       "        4.30467210e+07, 3.87420489e+08],\n",
       "       [1.00000000e+00, 1.00000000e+01, 1.00000000e+02, 1.00000000e+03,\n",
       "        1.00000000e+04, 1.00000000e+05, 1.00000000e+06, 1.00000000e+07,\n",
       "        1.00000000e+08, 1.00000000e+09]])"
      ]
     },
     "execution_count": 414,
     "metadata": {},
     "output_type": "execute_result"
    }
   ],
   "source": [
    "s"
   ]
  },
  {
   "cell_type": "code",
   "execution_count": 415,
   "id": "7a6781e9",
   "metadata": {},
   "outputs": [
    {
     "data": {
      "text/plain": [
       "LinearRegression()"
      ]
     },
     "execution_count": 415,
     "metadata": {},
     "output_type": "execute_result"
    }
   ],
   "source": [
    "model.fit(s,y)"
   ]
  },
  {
   "cell_type": "code",
   "execution_count": 416,
   "id": "76516e03",
   "metadata": {},
   "outputs": [
    {
     "data": {
      "image/png": "[encoded data removed]",
      "text/plain": [
       "<Figure size 432x288 with 1 Axes>"
      ]
     },
     "metadata": {},
     "output_type": "display_data"
    }
   ],
   "source": [
    "plt.scatter(x,y,color='red')\n",
    "plt.plot(x,model.predict(s))\n",
    "plt.xlabel('Level')\n",
    "plt.ylabel('Salary')\n",
    "plt.show()"
   ]
  },
  {
   "cell_type": "code",
   "execution_count": 417,
   "id": "fe8ae590",
   "metadata": {},
   "outputs": [
    {
     "data": {
      "text/plain": [
       "array([[7.5]])"
      ]
     },
     "execution_count": 417,
     "metadata": {},
     "output_type": "execute_result"
    }
   ],
   "source": [
    "test"
   ]
  },
  {
   "cell_type": "code",
   "execution_count": 418,
   "id": "c943eb42",
   "metadata": {},
   "outputs": [],
   "source": [
    "test = grr.fit_transform(test)"
   ]
  },
  {
   "cell_type": "code",
   "execution_count": 419,
   "id": "f978947f",
   "metadata": {},
   "outputs": [
    {
     "data": {
      "text/plain": [
       "array([[1.00000000e+00, 7.50000000e+00, 5.62500000e+01, 4.21875000e+02,\n",
       "        3.16406250e+03, 2.37304688e+04, 1.77978516e+05, 1.33483887e+06,\n",
       "        1.00112915e+07, 7.50846863e+07]])"
      ]
     },
     "execution_count": 419,
     "metadata": {},
     "output_type": "execute_result"
    }
   ],
   "source": [
    "test"
   ]
  },
  {
   "cell_type": "code",
   "execution_count": 420,
   "id": "fcda48ad",
   "metadata": {},
   "outputs": [
    {
     "data": {
      "text/plain": [
       "array([240179.53348094])"
      ]
     },
     "execution_count": 420,
     "metadata": {},
     "output_type": "execute_result"
    }
   ],
   "source": [
    "model.predict(test)"
   ]
  },
  {
   "cell_type": "code",
   "execution_count": null,
   "id": "9f913c5c",
   "metadata": {},
   "outputs": [],
   "source": []
  },
  {
   "cell_type": "code",
   "execution_count": null,
   "id": "c520c10e",
   "metadata": {},
   "outputs": [],
   "source": []
  },
  {
   "cell_type": "code",
   "execution_count": null,
   "id": "6f2faa0a",
   "metadata": {},
   "outputs": [],
   "source": []
  },
  {
   "cell_type": "code",
   "execution_count": null,
   "id": "a2c831e6",
   "metadata": {},
   "outputs": [],
   "source": []
  },
  {
   "cell_type": "code",
   "execution_count": null,
   "id": "f6c7137f",
   "metadata": {},
   "outputs": [],
   "source": []
  }
 ],
 "metadata": {
  "kernelspec": {
   "display_name": "Python 3",
   "language": "python",
   "name": "python3"
  },
  "language_info": {
   "codemirror_mode": {
    "name": "ipython",
    "version": 3
   },
   "file_extension": ".py",
   "mimetype": "text/x-python",
   "name": "python",
   "nbconvert_exporter": "python",
   "pygments_lexer": "ipython3",
   "version": "3.6.13"
  }
 },
 "nbformat": 4,
 "nbformat_minor": 5
}
